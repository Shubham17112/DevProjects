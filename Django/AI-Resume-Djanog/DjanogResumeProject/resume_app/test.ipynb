{
 "cells": [
  {
   "cell_type": "code",
   "execution_count": 5,
   "id": "6fadffc4",
   "metadata": {},
   "outputs": [
    {
     "name": "stdout",
     "output_type": "stream",
     "text": [
      "dog name is typed\n",
      "dog name is labrador_dog\n"
     ]
    }
   ],
   "source": [
    "# Inheritance \n",
    "# single level inheritance\n",
    "\n",
    "class Dog:\n",
    "    def __init__(self,name):\n",
    "        self.name = name\n",
    "    \n",
    "    def display_name (self):\n",
    "        print(f\"dog name is {self.name}\")\n",
    "        \n",
    "        \n",
    "class Labrador(Dog):\n",
    "    def sound(self):\n",
    "        print(\"LaBRADOR WOOFS\")\n",
    "        \n",
    "        \n",
    "dog1 = Dog('typed')\n",
    "dog1.display_name()\n",
    "labrador_1 = Labrador('labrador_dog')\n",
    "labrador_1.display_name()\n",
    "\n",
    "    "
   ]
  },
  {
   "cell_type": "code",
   "execution_count": 2,
   "id": "8d716230",
   "metadata": {},
   "outputs": [
    {
     "data": {
      "text/plain": [
       "'there is four types of plymosphism:\\nCompiler-time Polymorphism:\\n--- use methode overloading means: same methode name with different number of parameterrs\\n\\n\\nRun time Polymorphism:\\n--- This  Can be ahived via mehtode overrding\\n\\n\\n \\n\\nOperator Overiding : same opeator behaves differently on object type and we caa \\n--- \\n'"
      ]
     },
     "execution_count": 2,
     "metadata": {},
     "output_type": "execute_result"
    }
   ],
   "source": [
    "# Ploymorphism\n",
    "\n",
    "# it's a object oreiented programming concept where single function or mehtode  or operator  can work in different way dependes upon\n",
    "# types of object it's acting upon\n",
    "\n",
    "\n",
    "'''there is four types of plymosphism:\n",
    "Compiler-time Polymorphism:\n",
    "--- use methode overloading means: same methode name with different number of parameterrs\n",
    "\n",
    "\n",
    "Run time Polymorphism:\n",
    "--- This  Can be ahived via mehtode overrding\n",
    "\n",
    "\n",
    " \n",
    "\n",
    "Operator Overiding : same opeator behaves differently on object type and we caa \n",
    "--- \n",
    "'''"
   ]
  },
  {
   "cell_type": "code",
   "execution_count": 5,
   "id": "b445ad55",
   "metadata": {},
   "outputs": [],
   "source": [
    "class Mystring:\n",
    "    def __init__ (self,value):\n",
    "        self.value  = value \n",
    "    \n",
    "    def __add__ (self,other):\n",
    "        \n",
    "        return Mystring(other.value + self.value)\n",
    "        \n",
    "    "
   ]
  },
  {
   "cell_type": "code",
   "execution_count": 8,
   "id": "a33e5ffd",
   "metadata": {},
   "outputs": [
    {
     "name": "stdout",
     "output_type": "stream",
     "text": [
      "MishraShubham\n"
     ]
    }
   ],
   "source": [
    "a = Mystring('Shubham')\n",
    "b = Mystring('Mishra')\n",
    "result = a+b\n",
    "print(result.value)"
   ]
  },
  {
   "cell_type": "code",
   "execution_count": 14,
   "id": "df6e875d",
   "metadata": {},
   "outputs": [
    {
     "name": "stdout",
     "output_type": "stream",
     "text": [
      "bark\n"
     ]
    }
   ],
   "source": [
    "from abc import ABC , abstractmethod\n",
    "\n",
    "\n",
    "\n",
    "# absctracted class\n",
    "'''u can't access this class directly via a = Animal()'''\n",
    "class Animal(ABC):\n",
    "    @abstractmethod\n",
    "    def make_sound(self):\n",
    "        pass\n",
    "    \n",
    "\n",
    "class Dog(Animal):\n",
    "    def make_sound(self):\n",
    "        return 'bark'\n",
    "  \n",
    "  \n",
    "# a = Animal()   can't use \n",
    "\n",
    "\n",
    "a =Dog()\n",
    "print(a.make_sound())\n"
   ]
  },
  {
   "cell_type": "code",
   "execution_count": null,
   "id": "ff46069e",
   "metadata": {},
   "outputs": [
    {
     "name": "stdout",
     "output_type": "stream",
     "text": [
      "SUV - Brand: SUV800 ,Model:x100, Plat_No 1000IN,Rent_per_day 1000\n",
      "Hatchback - Brand: Hatchback100 ,Model:x10, Plat_No 5540IN,Rent_per_day 500\n"
     ]
    }
   ],
   "source": []
  },
  {
   "cell_type": "code",
   "execution_count": null,
   "id": "fc051210",
   "metadata": {},
   "outputs": [
    {
     "data": {
      "text/plain": [
       "'Hatchback - Brand: Hatchback100 ,Model:x10, Plat_No 5540IN,Rent_per_day 500'"
      ]
     },
     "execution_count": 15,
     "metadata": {},
     "output_type": "execute_result"
    }
   ],
   "source": []
  },
  {
   "cell_type": "code",
   "execution_count": null,
   "id": "bae8055f",
   "metadata": {},
   "outputs": [
    {
     "name": "stdout",
     "output_type": "stream",
     "text": [
      "\n",
      "Available Cars:\n",
      "1. Sedan - Honda City | Plate: MH12AB1234 | ₹1500/day | Available\n",
      "2. SUV - Toyota Fortuner | Plate: MH14CD5678 | ₹3000/day | Available\n",
      "3. Hatchback - Maruti Swift | Plate: MH15EF9012 | ₹1000/day | Available\n",
      "Rental Successful! Rental ID: 1 | Customer: Shubham | Car: Honda City | Days: 3 | Total: ₹4500\n",
      "Rental Successful! Rental ID: 2 | Customer: Anjali | Car: Toyota Fortuner | Days: 2 | Total: ₹6000\n",
      "\n",
      "All Rentals:\n",
      "Rental ID: 1 | Customer: Shubham | Car: Honda City | Days: 3 | Total: ₹4500\n",
      "Rental ID: 2 | Customer: Anjali | Car: Toyota Fortuner | Days: 2 | Total: ₹6000\n",
      "\n",
      "Available Cars:\n",
      "3. Hatchback - Maruti Swift | Plate: MH15EF9012 | ₹1000/day | Available\n"
     ]
    }
   ],
   "source": []
  },
  {
   "cell_type": "code",
   "execution_count": null,
   "id": "8d756508",
   "metadata": {},
   "outputs": [
    {
     "ename": "TypeError",
     "evalue": "Car.__init__() missing 2 required positional arguments: 'car_type' and 'able'",
     "output_type": "error",
     "traceback": [
      "\u001b[1;31m---------------------------------------------------------------------------\u001b[0m",
      "\u001b[1;31mTypeError\u001b[0m                                 Traceback (most recent call last)",
      "Cell \u001b[1;32mIn[39], line 28\u001b[0m\n\u001b[0;32m     22\u001b[0m             \u001b[38;5;28;01mif\u001b[39;00m car\u001b[38;5;241m.\u001b[39mid \u001b[38;5;241m==\u001b[39m \u001b[38;5;28mid\u001b[39m:\n\u001b[0;32m     23\u001b[0m                 car\u001b[38;5;241m.\u001b[39mid \u001b[38;5;241m=\u001b[39m \u001b[38;5;28;01mFalse\u001b[39;00m\n\u001b[1;32m---> 28\u001b[0m system \u001b[38;5;241m=\u001b[39m \u001b[43mCar\u001b[49m\u001b[43m(\u001b[49m\u001b[43m)\u001b[49m    \n\u001b[0;32m     30\u001b[0m cars \u001b[38;5;241m=\u001b[39m system\u001b[38;5;241m.\u001b[39mlist_of_cars\n",
      "\u001b[1;31mTypeError\u001b[0m: Car.__init__() missing 2 required positional arguments: 'car_type' and 'able'"
     ]
    }
   ],
   "source": [
    "class Car:\n",
    "    car_id = 0\n",
    "    list_of_cars = []\n",
    "    def __init__(self,car_type,able):\n",
    "        Car.car_id +=1\n",
    "        self.car_type = car_type\n",
    "        self.able = able\n",
    "        Car.list_of_cars.append(self)\n",
    "        \n",
    "    def show_car(self):\n",
    "        for car in Car.list_of_cars:\n",
    "            print(car.car_type)\n",
    "            \n",
    "    def able_car(self):\n",
    "        for car in Car.list_of_cars:\n",
    "            if car.able:\n",
    "                print(car.car_type)\n",
    "    \n",
    "            \n",
    "    def rent_a_car(self,id):\n",
    "        for car in Car.list_of_cars:\n",
    "            if car.id == id:\n",
    "                car.id = False\n",
    "\n",
    "\n",
    "\n",
    "\n",
    "class RentCarSystem():\n",
    "    \n",
    "\n",
    "system = RentCarSytem()    \n",
    "    \n",
    "cars = system.list_of_cars\n",
    "\n",
    "\n",
    "\n",
    "        \n",
    "        "
   ]
  }
 ],
 "metadata": {
  "kernelspec": {
   "display_name": "env_resume",
   "language": "python",
   "name": "python3"
  },
  "language_info": {
   "codemirror_mode": {
    "name": "ipython",
    "version": 3
   },
   "file_extension": ".py",
   "mimetype": "text/x-python",
   "name": "python",
   "nbconvert_exporter": "python",
   "pygments_lexer": "ipython3",
   "version": "3.10.6"
  }
 },
 "nbformat": 4,
 "nbformat_minor": 5
}
